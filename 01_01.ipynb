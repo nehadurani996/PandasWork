{
 "cells": [
  {
   "cell_type": "code",
   "execution_count": 1,
   "metadata": {
    "tags": []
   },
   "outputs": [],
   "source": [
    "import json"
   ]
  },
  {
   "cell_type": "code",
   "execution_count": 2,
   "metadata": {
    "tags": []
   },
   "outputs": [],
   "source": [
    "# load json file from /data folder\n",
    "with open('data/monthlySalesbyCategoryMultiple.json') as json_data:\n",
    "    d = json.load(json_data)"
   ]
  },
  {
   "cell_type": "code",
   "execution_count": 3,
   "metadata": {},
   "outputs": [
    {
     "name": "stdout",
     "output_type": "stream",
     "text": [
      "{'contents': [{'category': 'Furniture',\n",
      "               'monthlySales': [{'month': 20130101, 'sales': 38},\n",
      "                                {'month': 20130201, 'sales': 35},\n",
      "                                {'month': 20130301, 'sales': 41},\n",
      "                                {'month': 20130401, 'sales': 55},\n",
      "                                {'month': 20130501, 'sales': 58},\n",
      "                                {'month': 20130601, 'sales': 66},\n",
      "                                {'month': 20130701, 'sales': 74},\n",
      "                                {'month': 20130801, 'sales': 78},\n",
      "                                {'month': 20130901, 'sales': 38},\n",
      "                                {'month': 20131001, 'sales': 30},\n",
      "                                {'month': 20131101, 'sales': 26},\n",
      "                                {'month': 20131201, 'sales': 29}],\n",
      "               'region': 'West'},\n",
      "              {'category': 'Technology',\n",
      "               'monthlySales': [{'month': 20130101, 'sales': 54},\n",
      "                                {'month': 20130201, 'sales': 66},\n",
      "                                {'month': 20130301, 'sales': 77},\n",
      "                                {'month': 20130401, 'sales': 70},\n",
      "                                {'month': 20130501, 'sales': 60},\n",
      "                                {'month': 20130601, 'sales': 63},\n",
      "                                {'month': 20130701, 'sales': 55},\n",
      "                                {'month': 20130801, 'sales': 47},\n",
      "                                {'month': 20130901, 'sales': 55},\n",
      "                                {'month': 20131001, 'sales': 30},\n",
      "                                {'month': 20131101, 'sales': 22},\n",
      "                                {'month': 20131201, 'sales': 77}],\n",
      "               'region': 'West'}]}\n"
     ]
    }
   ],
   "source": [
    "\n",
    "# see what the dictionary looks like\n",
    "from pprint import pprint as pp\n",
    "pp(d)"
   ]
  },
  {
   "cell_type": "code",
   "execution_count": 4,
   "metadata": {},
   "outputs": [
    {
     "name": "stdout",
     "output_type": "stream",
     "text": [
      "dict_keys(['contents'])\n"
     ]
    }
   ],
   "source": [
    "# print keys at the top level\n",
    "print(d.keys())"
   ]
  },
  {
   "cell_type": "code",
   "execution_count": 5,
   "metadata": {},
   "outputs": [
    {
     "name": "stdout",
     "output_type": "stream",
     "text": [
      "dict_keys(['category', 'region', 'monthlySales'])\n",
      "dict_keys(['category', 'region', 'monthlySales'])\n"
     ]
    }
   ],
   "source": [
    "# print keys at the second level\n",
    "for a in d['contents']:\n",
    "    print (a.keys())"
   ]
  },
  {
   "cell_type": "code",
   "execution_count": 6,
   "metadata": {},
   "outputs": [
    {
     "name": "stdout",
     "output_type": "stream",
     "text": [
      "dict_keys(['month', 'sales'])\n",
      "dict_keys(['month', 'sales'])\n",
      "dict_keys(['month', 'sales'])\n",
      "dict_keys(['month', 'sales'])\n",
      "dict_keys(['month', 'sales'])\n",
      "dict_keys(['month', 'sales'])\n",
      "dict_keys(['month', 'sales'])\n",
      "dict_keys(['month', 'sales'])\n",
      "dict_keys(['month', 'sales'])\n",
      "dict_keys(['month', 'sales'])\n",
      "dict_keys(['month', 'sales'])\n",
      "dict_keys(['month', 'sales'])\n",
      "dict_keys(['month', 'sales'])\n",
      "dict_keys(['month', 'sales'])\n",
      "dict_keys(['month', 'sales'])\n",
      "dict_keys(['month', 'sales'])\n",
      "dict_keys(['month', 'sales'])\n",
      "dict_keys(['month', 'sales'])\n",
      "dict_keys(['month', 'sales'])\n",
      "dict_keys(['month', 'sales'])\n",
      "dict_keys(['month', 'sales'])\n",
      "dict_keys(['month', 'sales'])\n",
      "dict_keys(['month', 'sales'])\n",
      "dict_keys(['month', 'sales'])\n"
     ]
    }
   ],
   "source": [
    "# print keys at the third level\n",
    "for a in d['contents']:\n",
    "    for b in a['monthlySales']:\n",
    "        print (b.keys())"
   ]
  },
  {
   "cell_type": "code",
   "execution_count": 7,
   "metadata": {
    "scrolled": true
   },
   "outputs": [
    {
     "name": "stdout",
     "output_type": "stream",
     "text": [
      "[{'category': 'Furniture',\n",
      "  'monthlySales': [{'month': 20130101, 'sales': 38},\n",
      "                   {'month': 20130201, 'sales': 35},\n",
      "                   {'month': 20130301, 'sales': 41},\n",
      "                   {'month': 20130401, 'sales': 55},\n",
      "                   {'month': 20130501, 'sales': 58},\n",
      "                   {'month': 20130601, 'sales': 66},\n",
      "                   {'month': 20130701, 'sales': 74},\n",
      "                   {'month': 20130801, 'sales': 78},\n",
      "                   {'month': 20130901, 'sales': 38},\n",
      "                   {'month': 20131001, 'sales': 30},\n",
      "                   {'month': 20131101, 'sales': 26},\n",
      "                   {'month': 20131201, 'sales': 29}],\n",
      "  'region': 'West'},\n",
      " {'category': 'Technology',\n",
      "  'monthlySales': [{'month': 20130101, 'sales': 54},\n",
      "                   {'month': 20130201, 'sales': 66},\n",
      "                   {'month': 20130301, 'sales': 77},\n",
      "                   {'month': 20130401, 'sales': 70},\n",
      "                   {'month': 20130501, 'sales': 60},\n",
      "                   {'month': 20130601, 'sales': 63},\n",
      "                   {'month': 20130701, 'sales': 55},\n",
      "                   {'month': 20130801, 'sales': 47},\n",
      "                   {'month': 20130901, 'sales': 55},\n",
      "                   {'month': 20131001, 'sales': 30},\n",
      "                   {'month': 20131101, 'sales': 22},\n",
      "                   {'month': 20131201, 'sales': 77}],\n",
      "  'region': 'West'}]\n",
      "contents:  None\n"
     ]
    }
   ],
   "source": [
    "# print the keys and values at the first level\n",
    "for key, value in d.items():\n",
    "    print (key + ': ', pp(value))"
   ]
  },
  {
   "cell_type": "code",
   "execution_count": 8,
   "metadata": {},
   "outputs": [
    {
     "name": "stdout",
     "output_type": "stream",
     "text": [
      "category:  Furniture\n",
      "region:  West\n",
      "monthlySales:  [{'month': 20130101, 'sales': 38}, {'month': 20130201, 'sales': 35}, {'month': 20130301, 'sales': 41}, {'month': 20130401, 'sales': 55}, {'month': 20130501, 'sales': 58}, {'month': 20130601, 'sales': 66}, {'month': 20130701, 'sales': 74}, {'month': 20130801, 'sales': 78}, {'month': 20130901, 'sales': 38}, {'month': 20131001, 'sales': 30}, {'month': 20131101, 'sales': 26}, {'month': 20131201, 'sales': 29}]\n",
      "category:  Technology\n",
      "region:  West\n",
      "monthlySales:  [{'month': 20130101, 'sales': 54}, {'month': 20130201, 'sales': 66}, {'month': 20130301, 'sales': 77}, {'month': 20130401, 'sales': 70}, {'month': 20130501, 'sales': 60}, {'month': 20130601, 'sales': 63}, {'month': 20130701, 'sales': 55}, {'month': 20130801, 'sales': 47}, {'month': 20130901, 'sales': 55}, {'month': 20131001, 'sales': 30}, {'month': 20131101, 'sales': 22}, {'month': 20131201, 'sales': 77}]\n"
     ]
    }
   ],
   "source": [
    "# print the keys and values at the second level\n",
    "for a in d['contents']:\n",
    "    for key, value in a.items():\n",
    "        print (key + ': ', value)    "
   ]
  },
  {
   "cell_type": "code",
   "execution_count": 9,
   "metadata": {},
   "outputs": [
    {
     "name": "stdout",
     "output_type": "stream",
     "text": [
      "month: 20130101\n",
      "sales: 38\n",
      "month: 20130201\n",
      "sales: 35\n",
      "month: 20130301\n",
      "sales: 41\n",
      "month: 20130401\n",
      "sales: 55\n",
      "month: 20130501\n",
      "sales: 58\n",
      "month: 20130601\n",
      "sales: 66\n",
      "month: 20130701\n",
      "sales: 74\n",
      "month: 20130801\n",
      "sales: 78\n",
      "month: 20130901\n",
      "sales: 38\n",
      "month: 20131001\n",
      "sales: 30\n",
      "month: 20131101\n",
      "sales: 26\n",
      "month: 20131201\n",
      "sales: 29\n",
      "month: 20130101\n",
      "sales: 54\n",
      "month: 20130201\n",
      "sales: 66\n",
      "month: 20130301\n",
      "sales: 77\n",
      "month: 20130401\n",
      "sales: 70\n",
      "month: 20130501\n",
      "sales: 60\n",
      "month: 20130601\n",
      "sales: 63\n",
      "month: 20130701\n",
      "sales: 55\n",
      "month: 20130801\n",
      "sales: 47\n",
      "month: 20130901\n",
      "sales: 55\n",
      "month: 20131001\n",
      "sales: 30\n",
      "month: 20131101\n",
      "sales: 22\n",
      "month: 20131201\n",
      "sales: 77\n"
     ]
    }
   ],
   "source": [
    "# print keys and values in monthlySales\n",
    "for a in d['contents']:\n",
    "    for b in a['monthlySales']:\n",
    "        for key, value in b.items():\n",
    "            print (key + \":\", value)"
   ]
  },
  {
   "cell_type": "code",
   "execution_count": 10,
   "metadata": {},
   "outputs": [
    {
     "name": "stdout",
     "output_type": "stream",
     "text": [
      "West,Furniture,20130101,38\n",
      "West,Furniture,20130201,35\n",
      "West,Furniture,20130301,41\n",
      "West,Furniture,20130401,55\n",
      "West,Furniture,20130501,58\n",
      "West,Furniture,20130601,66\n",
      "West,Furniture,20130701,74\n",
      "West,Furniture,20130801,78\n",
      "West,Furniture,20130901,38\n",
      "West,Furniture,20131001,30\n",
      "West,Furniture,20131101,26\n",
      "West,Furniture,20131201,29\n",
      "West,Technology,20130101,54\n",
      "West,Technology,20130201,66\n",
      "West,Technology,20130301,77\n",
      "West,Technology,20130401,70\n",
      "West,Technology,20130501,60\n",
      "West,Technology,20130601,63\n",
      "West,Technology,20130701,55\n",
      "West,Technology,20130801,47\n",
      "West,Technology,20130901,55\n",
      "West,Technology,20131001,30\n",
      "West,Technology,20131101,22\n",
      "West,Technology,20131201,77\n"
     ]
    }
   ],
   "source": [
    "# flatten output and add category plus region\n",
    "for a in d['contents']:\n",
    "    for b in a['monthlySales']:\n",
    "        print (a['region'] + \",\" + a['category'] + \",\" + str(b['month']) + \",\" + str(b['sales']))"
   ]
  },
  {
   "cell_type": "code",
   "execution_count": null,
   "metadata": {
    "tags": []
   },
   "outputs": [],
   "source": []
  },
  {
   "cell_type": "code",
   "execution_count": null,
   "metadata": {},
   "outputs": [],
   "source": []
  }
 ],
 "metadata": {
  "kernelspec": {
   "display_name": "Python 3 (ipykernel)",
   "language": "python",
   "name": "python3"
  },
  "language_info": {
   "codemirror_mode": {
    "name": "ipython",
    "version": 3
   },
   "file_extension": ".py",
   "mimetype": "text/x-python",
   "name": "python",
   "nbconvert_exporter": "python",
   "pygments_lexer": "ipython3",
   "version": "3.10.7"
  }
 },
 "nbformat": 4,
 "nbformat_minor": 4
}

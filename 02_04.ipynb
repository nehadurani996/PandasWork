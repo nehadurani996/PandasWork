{
 "cells": [
  {
   "cell_type": "code",
   "execution_count": null,
   "metadata": {},
   "outputs": [],
   "source": [
    "import pandas as pd"
   ]
  },
  {
   "cell_type": "code",
   "execution_count": null,
   "metadata": {},
   "outputs": [],
   "source": [
    "df = pd.read_csv('data/MonthlyProductSales.csv',  encoding='cp1252')"
   ]
  },
  {
   "cell_type": "code",
   "execution_count": null,
   "metadata": {},
   "outputs": [],
   "source": []
  },
  {
   "cell_type": "code",
   "execution_count": 19,
   "metadata": {},
   "outputs": [
    {
     "data": {
      "text/html": [
       "<div>\n",
       "<style scoped>\n",
       "    .dataframe tbody tr th:only-of-type {\n",
       "        vertical-align: middle;\n",
       "    }\n",
       "\n",
       "    .dataframe tbody tr th {\n",
       "        vertical-align: top;\n",
       "    }\n",
       "\n",
       "    .dataframe thead th {\n",
       "        text-align: right;\n",
       "    }\n",
       "</style>\n",
       "<table border=\"1\" class=\"dataframe\">\n",
       "  <thead>\n",
       "    <tr style=\"text-align: right;\">\n",
       "      <th></th>\n",
       "      <th>Year</th>\n",
       "      <th>Product Name</th>\n",
       "      <th>Sales</th>\n",
       "    </tr>\n",
       "  </thead>\n",
       "  <tbody>\n",
       "    <tr>\n",
       "      <th>0</th>\n",
       "      <td>2013</td>\n",
       "      <td>#10 White Business Envelopes,4 1/8 x 9 1/2</td>\n",
       "      <td>156.0</td>\n",
       "    </tr>\n",
       "    <tr>\n",
       "      <th>1</th>\n",
       "      <td>2013</td>\n",
       "      <td>#10- 4 1/8\" x 9 1/2\" Recycled Envelopes</td>\n",
       "      <td>63.0</td>\n",
       "    </tr>\n",
       "    <tr>\n",
       "      <th>2</th>\n",
       "      <td>2013</td>\n",
       "      <td>#10- 4 1/8\" x 9 1/2\" Security-Tint Envelopes</td>\n",
       "      <td>23.0</td>\n",
       "    </tr>\n",
       "    <tr>\n",
       "      <th>3</th>\n",
       "      <td>2013</td>\n",
       "      <td>1.7 Cubic Foot Compact \"Cube\" Office Refrigera...</td>\n",
       "      <td>541.0</td>\n",
       "    </tr>\n",
       "    <tr>\n",
       "      <th>4</th>\n",
       "      <td>2013</td>\n",
       "      <td>1/4 Fold Party Design Invitations &amp; White Enve...</td>\n",
       "      <td>6.0</td>\n",
       "    </tr>\n",
       "    <tr>\n",
       "      <th>...</th>\n",
       "      <td>...</td>\n",
       "      <td>...</td>\n",
       "      <td>...</td>\n",
       "    </tr>\n",
       "    <tr>\n",
       "      <th>5321</th>\n",
       "      <td>2016</td>\n",
       "      <td>iKross Bluetooth Portable Keyboard + Cell Phon...</td>\n",
       "      <td>67.0</td>\n",
       "    </tr>\n",
       "    <tr>\n",
       "      <th>5322</th>\n",
       "      <td>2016</td>\n",
       "      <td>iOttie HLCRIO102 Car Mount</td>\n",
       "      <td>120.0</td>\n",
       "    </tr>\n",
       "    <tr>\n",
       "      <th>5323</th>\n",
       "      <td>2016</td>\n",
       "      <td>iOttie XL Car Mount</td>\n",
       "      <td>224.0</td>\n",
       "    </tr>\n",
       "    <tr>\n",
       "      <th>5324</th>\n",
       "      <td>2016</td>\n",
       "      <td>invisibleSHIELD by ZAGG Smudge-Free Screen Pro...</td>\n",
       "      <td>205.0</td>\n",
       "    </tr>\n",
       "    <tr>\n",
       "      <th>5325</th>\n",
       "      <td>2016</td>\n",
       "      <td>netTALK DUO VoIP Telephone Service</td>\n",
       "      <td>168.0</td>\n",
       "    </tr>\n",
       "  </tbody>\n",
       "</table>\n",
       "<p>5326 rows × 3 columns</p>\n",
       "</div>"
      ],
      "text/plain": [
       "      Year                                       Product Name  Sales\n",
       "0     2013         #10 White Business Envelopes,4 1/8 x 9 1/2  156.0\n",
       "1     2013            #10- 4 1/8\" x 9 1/2\" Recycled Envelopes   63.0\n",
       "2     2013       #10- 4 1/8\" x 9 1/2\" Security-Tint Envelopes   23.0\n",
       "3     2013  1.7 Cubic Foot Compact \"Cube\" Office Refrigera...  541.0\n",
       "4     2013  1/4 Fold Party Design Invitations & White Enve...    6.0\n",
       "...    ...                                                ...    ...\n",
       "5321  2016  iKross Bluetooth Portable Keyboard + Cell Phon...   67.0\n",
       "5322  2016                         iOttie HLCRIO102 Car Mount  120.0\n",
       "5323  2016                                iOttie XL Car Mount  224.0\n",
       "5324  2016  invisibleSHIELD by ZAGG Smudge-Free Screen Pro...  205.0\n",
       "5325  2016                 netTALK DUO VoIP Telephone Service  168.0\n",
       "\n",
       "[5326 rows x 3 columns]"
      ]
     },
     "execution_count": 19,
     "metadata": {},
     "output_type": "execute_result"
    }
   ],
   "source": [
    "# yearly product sales totals\n",
    "df_export = df.groupby([df['Month of Order Date'].str[:4], 'Product Name'])['Sales'].sum().reset_index()\n",
    "df_export = df_export.rename(columns={'Month of Order Date': 'Year'})\n",
    "df_export"
   ]
  },
  {
   "cell_type": "code",
   "execution_count": null,
   "metadata": {},
   "outputs": [],
   "source": [
    "# export to csv, check csv when finished\n",
    "import os\n",
    "\n",
    "outdir = './data/output'\n",
    "if not os.path.exists(outdir):\n",
    "    os.mkdir(outdir)\n",
    "\n",
    "df_export.to_csv('data/output/YearlyProductSalesTotals.csv', header=True, index=False, encoding='utf-8')"
   ]
  },
  {
   "cell_type": "code",
   "execution_count": null,
   "metadata": {},
   "outputs": [],
   "source": [
    "# read in the csv to verify\n",
    "df_csv = pd.read_csv('data/output/YearlyProductSalesTotals.csv')\n",
    "df_csv\n"
   ]
  },
  {
   "cell_type": "code",
   "execution_count": null,
   "metadata": {},
   "outputs": [],
   "source": [
    "# export to json, check json when finished\n",
    "df_export.to_json('data/output/YearlyProductSalesTotals.json', orient='records')\n",
    "\n",
    "# read in exported file to verify\n",
    "df_json = pd.read_json('data/output/YearlyProductSalesTotals.json')\n",
    "df_json"
   ]
  },
  {
   "cell_type": "code",
   "execution_count": null,
   "metadata": {},
   "outputs": [],
   "source": [
    "#pip install openpyxl\n",
    "#May need to restart Kernel\n",
    "# export to excel, check excel file when finished\n",
    "df_export.to_excel('data/output/YearlyProductSalesTotals.xlsx', header=True, index=False)\n",
    "\n",
    "df_xls = pd.read_excel('data/output/YearlyProductSalesTotals.xlsx')\n",
    "df_xls"
   ]
  },
  {
   "cell_type": "code",
   "execution_count": null,
   "metadata": {},
   "outputs": [],
   "source": []
  }
 ],
 "metadata": {
  "anaconda-cloud": {},
  "kernelspec": {
   "display_name": "Python 3 (ipykernel)",
   "language": "python",
   "name": "python3"
  },
  "language_info": {
   "codemirror_mode": {
    "name": "ipython",
    "version": 3
   },
   "file_extension": ".py",
   "mimetype": "text/x-python",
   "name": "python",
   "nbconvert_exporter": "python",
   "pygments_lexer": "ipython3",
   "version": "3.10.7"
  }
 },
 "nbformat": 4,
 "nbformat_minor": 4
}

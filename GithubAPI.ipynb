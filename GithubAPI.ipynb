{
 "cells": [
  {
   "cell_type": "code",
   "execution_count": 2,
   "metadata": {},
   "outputs": [],
   "source": [
    "# pip install requests\n",
    "import requests\n",
    "response = requests.get('https://api.github.com/repos/bsullins/data/contents/monthlySalesbyCategoryMultiple.json') # get the data from the requested link."
   ]
  },
  {
   "cell_type": "code",
   "execution_count": 3,
   "metadata": {},
   "outputs": [],
   "source": [
    "import json\n",
    "resp_json = json.loads(response.text)"
   ]
  },
  {
   "cell_type": "code",
   "execution_count": 4,
   "metadata": {},
   "outputs": [],
   "source": [
    "import base64 \n",
    "val = json.loads(base64.b64decode(resp_json['content']))"
   ]
  },
  {
   "cell_type": "code",
   "execution_count": 5,
   "metadata": {},
   "outputs": [
    {
     "name": "stdout",
     "output_type": "stream",
     "text": [
      "{'contents': [{'category': 'Furniture',\n",
      "               'monthlySales': [{'month': 20130101, 'sales': 38},\n",
      "                                {'month': 20130201, 'sales': 35},\n",
      "                                {'month': 20130301, 'sales': 41},\n",
      "                                {'month': 20130401, 'sales': 55},\n",
      "                                {'month': 20130501, 'sales': 58},\n",
      "                                {'month': 20130601, 'sales': 66},\n",
      "                                {'month': 20130701, 'sales': 74},\n",
      "                                {'month': 20130801, 'sales': 78},\n",
      "                                {'month': 20130901, 'sales': 38},\n",
      "                                {'month': 20131001, 'sales': 30},\n",
      "                                {'month': 20131101, 'sales': 26},\n",
      "                                {'month': 20131201, 'sales': 29}],\n",
      "               'region': 'West'},\n",
      "              {'category': 'Technology',\n",
      "               'monthlySales': [{'month': 20130101, 'sales': 54},\n",
      "                                {'month': 20130201, 'sales': 66},\n",
      "                                {'month': 20130301, 'sales': 77},\n",
      "                                {'month': 20130401, 'sales': 70},\n",
      "                                {'month': 20130501, 'sales': 60},\n",
      "                                {'month': 20130601, 'sales': 63},\n",
      "                                {'month': 20130701, 'sales': 55},\n",
      "                                {'month': 20130801, 'sales': 47},\n",
      "                                {'month': 20130901, 'sales': 55},\n",
      "                                {'month': 20131001, 'sales': 30},\n",
      "                                {'month': 20131101, 'sales': 22},\n",
      "                                {'month': 20131201, 'sales': 77}],\n",
      "               'region': 'West'}]}\n"
     ]
    }
   ],
   "source": [
    "from pprint import pprint as pp\n",
    "pp(val)"
   ]
  },
  {
   "cell_type": "code",
   "execution_count": 14,
   "metadata": {
    "scrolled": true,
    "tags": []
   },
   "outputs": [
    {
     "name": "stdout",
     "output_type": "stream",
     "text": [
      "month:  20130101\n",
      "sales:  38\n",
      "month:  20130201\n",
      "sales:  35\n",
      "month:  20130301\n",
      "sales:  41\n",
      "month:  20130401\n",
      "sales:  55\n",
      "month:  20130501\n",
      "sales:  58\n",
      "month:  20130601\n",
      "sales:  66\n",
      "month:  20130701\n",
      "sales:  74\n",
      "month:  20130801\n",
      "sales:  78\n",
      "month:  20130901\n",
      "sales:  38\n",
      "month:  20131001\n",
      "sales:  30\n",
      "month:  20131101\n",
      "sales:  26\n",
      "month:  20131201\n",
      "sales:  29\n",
      "month:  20130101\n",
      "sales:  54\n",
      "month:  20130201\n",
      "sales:  66\n",
      "month:  20130301\n",
      "sales:  77\n",
      "month:  20130401\n",
      "sales:  70\n",
      "month:  20130501\n",
      "sales:  60\n",
      "month:  20130601\n",
      "sales:  63\n",
      "month:  20130701\n",
      "sales:  55\n",
      "month:  20130801\n",
      "sales:  47\n",
      "month:  20130901\n",
      "sales:  55\n",
      "month:  20131001\n",
      "sales:  30\n",
      "month:  20131101\n",
      "sales:  22\n",
      "month:  20131201\n",
      "sales:  77\n"
     ]
    }
   ],
   "source": [
    "# print the keys and values at the third level\n",
    "for a in val['contents']:\n",
    "    for b in a['monthlySales']:\n",
    "        for key, value in b.items():\n",
    "            print (key + \": \", value)"
   ]
  },
  {
   "cell_type": "code",
   "execution_count": 6,
   "metadata": {},
   "outputs": [],
   "source": [
    "response = requests.get('https://api.github.com/repos/bsullins/data/contents/MonthlySales.csv')"
   ]
  },
  {
   "cell_type": "code",
   "execution_count": 7,
   "metadata": {},
   "outputs": [],
   "source": [
    "response_json = json.loads(response.text)"
   ]
  },
  {
   "cell_type": "code",
   "execution_count": 8,
   "metadata": {},
   "outputs": [],
   "source": [
    "csv_val = json.loads(base64.b64decode(resp_json['content']))"
   ]
  },
  {
   "cell_type": "code",
   "execution_count": 9,
   "metadata": {},
   "outputs": [
    {
     "name": "stdout",
     "output_type": "stream",
     "text": [
      "month:  20130101\n",
      "sales:  38\n",
      "month:  20130201\n",
      "sales:  35\n",
      "month:  20130301\n",
      "sales:  41\n",
      "month:  20130401\n",
      "sales:  55\n",
      "month:  20130501\n",
      "sales:  58\n",
      "month:  20130601\n",
      "sales:  66\n",
      "month:  20130701\n",
      "sales:  74\n",
      "month:  20130801\n",
      "sales:  78\n",
      "month:  20130901\n",
      "sales:  38\n",
      "month:  20131001\n",
      "sales:  30\n",
      "month:  20131101\n",
      "sales:  26\n",
      "month:  20131201\n",
      "sales:  29\n",
      "\n",
      "\n",
      "month:  20130101\n",
      "sales:  54\n",
      "month:  20130201\n",
      "sales:  66\n",
      "month:  20130301\n",
      "sales:  77\n",
      "month:  20130401\n",
      "sales:  70\n",
      "month:  20130501\n",
      "sales:  60\n",
      "month:  20130601\n",
      "sales:  63\n",
      "month:  20130701\n",
      "sales:  55\n",
      "month:  20130801\n",
      "sales:  47\n",
      "month:  20130901\n",
      "sales:  55\n",
      "month:  20131001\n",
      "sales:  30\n",
      "month:  20131101\n",
      "sales:  22\n",
      "month:  20131201\n",
      "sales:  77\n",
      "\n",
      "\n"
     ]
    }
   ],
   "source": [
    "# print the keys and values at the third level\n",
    "for a in csv_val['contents']:\n",
    "    for b in a['monthlySales']:\n",
    "        for key, value in b.items():\n",
    "            print (key + \": \", value)\n",
    "    print ('\\n')"
   ]
  }
 ],
 "metadata": {
  "kernelspec": {
   "display_name": "Python 3 (ipykernel)",
   "language": "python",
   "name": "python3"
  },
  "language_info": {
   "codemirror_mode": {
    "name": "ipython",
    "version": 3
   },
   "file_extension": ".py",
   "mimetype": "text/x-python",
   "name": "python",
   "nbconvert_exporter": "python",
   "pygments_lexer": "ipython3",
   "version": "3.11.4"
  }
 },
 "nbformat": 4,
 "nbformat_minor": 4
}
